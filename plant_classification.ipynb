{
 "cells": [
  {
   "cell_type": "markdown",
   "metadata": {},
   "source": [
    "# Plant Identification with NEON Remote Sensing Data"
   ]
  },
  {
   "cell_type": "code",
   "execution_count": 56,
   "metadata": {},
   "outputs": [],
   "source": [
    "import numpy as np\n",
    "import pandas as pd\n",
    "import matplotlib.pyplot as plt\n",
    "%matplotlib inline\n",
    "\n",
    "import rasterio\n",
    "import geopandas as gpd"
   ]
  },
  {
   "cell_type": "code",
   "execution_count": 2,
   "metadata": {},
   "outputs": [],
   "source": [
    "train_hs = pd.read_csv(\"../ECODSEdataset/Task3/GroundData/hyper_bands_train.csv\")\n",
    "train_class = pd.read_csv(\"../ECODSEdataset/Task3/GroundData/species_id_train.csv\")"
   ]
  },
  {
   "cell_type": "code",
   "execution_count": 3,
   "metadata": {},
   "outputs": [
    {
     "data": {
      "text/html": [
       "<div>\n",
       "<style scoped>\n",
       "    .dataframe tbody tr th:only-of-type {\n",
       "        vertical-align: middle;\n",
       "    }\n",
       "\n",
       "    .dataframe tbody tr th {\n",
       "        vertical-align: top;\n",
       "    }\n",
       "\n",
       "    .dataframe thead th {\n",
       "        text-align: right;\n",
       "    }\n",
       "</style>\n",
       "<table border=\"1\" class=\"dataframe\">\n",
       "  <thead>\n",
       "    <tr style=\"text-align: right;\">\n",
       "      <th></th>\n",
       "      <th>crown_id</th>\n",
       "      <th>chm</th>\n",
       "      <th>band_1</th>\n",
       "      <th>band_2</th>\n",
       "      <th>band_3</th>\n",
       "      <th>band_4</th>\n",
       "      <th>band_5</th>\n",
       "      <th>band_6</th>\n",
       "      <th>band_7</th>\n",
       "      <th>band_8</th>\n",
       "      <th>...</th>\n",
       "      <th>band_417</th>\n",
       "      <th>band_418</th>\n",
       "      <th>band_419</th>\n",
       "      <th>band_420</th>\n",
       "      <th>band_421</th>\n",
       "      <th>band_422</th>\n",
       "      <th>band_423</th>\n",
       "      <th>band_424</th>\n",
       "      <th>band_425</th>\n",
       "      <th>band_426</th>\n",
       "    </tr>\n",
       "  </thead>\n",
       "  <tbody>\n",
       "    <tr>\n",
       "      <th>0</th>\n",
       "      <td>302</td>\n",
       "      <td>6.78</td>\n",
       "      <td>0.0118</td>\n",
       "      <td>0.0182</td>\n",
       "      <td>0.0259</td>\n",
       "      <td>0.0163</td>\n",
       "      <td>0.0121</td>\n",
       "      <td>0.0111</td>\n",
       "      <td>0.0138</td>\n",
       "      <td>0.0147</td>\n",
       "      <td>...</td>\n",
       "      <td>0.0314</td>\n",
       "      <td>0.0376</td>\n",
       "      <td>0.0260</td>\n",
       "      <td>0.0896</td>\n",
       "      <td>0.1293</td>\n",
       "      <td>0.2911</td>\n",
       "      <td>0.1835</td>\n",
       "      <td>0.1658</td>\n",
       "      <td>0.5142</td>\n",
       "      <td>0.8945</td>\n",
       "    </tr>\n",
       "    <tr>\n",
       "      <th>1</th>\n",
       "      <td>302</td>\n",
       "      <td>7.99</td>\n",
       "      <td>0.0183</td>\n",
       "      <td>0.0202</td>\n",
       "      <td>0.0262</td>\n",
       "      <td>0.0247</td>\n",
       "      <td>0.0179</td>\n",
       "      <td>0.0190</td>\n",
       "      <td>0.0216</td>\n",
       "      <td>0.0216</td>\n",
       "      <td>...</td>\n",
       "      <td>0.0554</td>\n",
       "      <td>0.0624</td>\n",
       "      <td>0.0719</td>\n",
       "      <td>0.1051</td>\n",
       "      <td>0.1770</td>\n",
       "      <td>0.3486</td>\n",
       "      <td>0.1680</td>\n",
       "      <td>0.1617</td>\n",
       "      <td>0.3668</td>\n",
       "      <td>0.9973</td>\n",
       "    </tr>\n",
       "    <tr>\n",
       "      <th>2</th>\n",
       "      <td>302</td>\n",
       "      <td>6.39</td>\n",
       "      <td>0.0195</td>\n",
       "      <td>0.0176</td>\n",
       "      <td>0.0261</td>\n",
       "      <td>0.0224</td>\n",
       "      <td>0.0153</td>\n",
       "      <td>0.0155</td>\n",
       "      <td>0.0167</td>\n",
       "      <td>0.0193</td>\n",
       "      <td>...</td>\n",
       "      <td>0.0662</td>\n",
       "      <td>0.0588</td>\n",
       "      <td>0.0779</td>\n",
       "      <td>0.0996</td>\n",
       "      <td>0.1669</td>\n",
       "      <td>0.2069</td>\n",
       "      <td>0.2328</td>\n",
       "      <td>0.1765</td>\n",
       "      <td>0.4653</td>\n",
       "      <td>1.3310</td>\n",
       "    </tr>\n",
       "    <tr>\n",
       "      <th>3</th>\n",
       "      <td>302</td>\n",
       "      <td>8.76</td>\n",
       "      <td>0.0147</td>\n",
       "      <td>0.0236</td>\n",
       "      <td>0.0271</td>\n",
       "      <td>0.0198</td>\n",
       "      <td>0.0159</td>\n",
       "      <td>0.0180</td>\n",
       "      <td>0.0167</td>\n",
       "      <td>0.0177</td>\n",
       "      <td>...</td>\n",
       "      <td>0.0702</td>\n",
       "      <td>0.0682</td>\n",
       "      <td>0.0812</td>\n",
       "      <td>0.1018</td>\n",
       "      <td>0.1582</td>\n",
       "      <td>0.3171</td>\n",
       "      <td>0.2919</td>\n",
       "      <td>0.2121</td>\n",
       "      <td>0.5380</td>\n",
       "      <td>1.2786</td>\n",
       "    </tr>\n",
       "    <tr>\n",
       "      <th>4</th>\n",
       "      <td>302</td>\n",
       "      <td>7.52</td>\n",
       "      <td>0.0178</td>\n",
       "      <td>0.0191</td>\n",
       "      <td>0.0251</td>\n",
       "      <td>0.0189</td>\n",
       "      <td>0.0137</td>\n",
       "      <td>0.0141</td>\n",
       "      <td>0.0156</td>\n",
       "      <td>0.0178</td>\n",
       "      <td>...</td>\n",
       "      <td>0.0424</td>\n",
       "      <td>0.0447</td>\n",
       "      <td>0.0493</td>\n",
       "      <td>0.0792</td>\n",
       "      <td>0.1613</td>\n",
       "      <td>0.3703</td>\n",
       "      <td>0.1875</td>\n",
       "      <td>0.2034</td>\n",
       "      <td>0.4958</td>\n",
       "      <td>1.0195</td>\n",
       "    </tr>\n",
       "  </tbody>\n",
       "</table>\n",
       "<p>5 rows × 428 columns</p>\n",
       "</div>"
      ],
      "text/plain": [
       "   crown_id   chm  band_1  band_2  band_3  band_4  band_5  band_6  band_7  \\\n",
       "0       302  6.78  0.0118  0.0182  0.0259  0.0163  0.0121  0.0111  0.0138   \n",
       "1       302  7.99  0.0183  0.0202  0.0262  0.0247  0.0179  0.0190  0.0216   \n",
       "2       302  6.39  0.0195  0.0176  0.0261  0.0224  0.0153  0.0155  0.0167   \n",
       "3       302  8.76  0.0147  0.0236  0.0271  0.0198  0.0159  0.0180  0.0167   \n",
       "4       302  7.52  0.0178  0.0191  0.0251  0.0189  0.0137  0.0141  0.0156   \n",
       "\n",
       "   band_8  ...  band_417  band_418  band_419  band_420  band_421  band_422  \\\n",
       "0  0.0147  ...    0.0314    0.0376    0.0260    0.0896    0.1293    0.2911   \n",
       "1  0.0216  ...    0.0554    0.0624    0.0719    0.1051    0.1770    0.3486   \n",
       "2  0.0193  ...    0.0662    0.0588    0.0779    0.0996    0.1669    0.2069   \n",
       "3  0.0177  ...    0.0702    0.0682    0.0812    0.1018    0.1582    0.3171   \n",
       "4  0.0178  ...    0.0424    0.0447    0.0493    0.0792    0.1613    0.3703   \n",
       "\n",
       "   band_423  band_424  band_425  band_426  \n",
       "0    0.1835    0.1658    0.5142    0.8945  \n",
       "1    0.1680    0.1617    0.3668    0.9973  \n",
       "2    0.2328    0.1765    0.4653    1.3310  \n",
       "3    0.2919    0.2121    0.5380    1.2786  \n",
       "4    0.1875    0.2034    0.4958    1.0195  \n",
       "\n",
       "[5 rows x 428 columns]"
      ]
     },
     "execution_count": 3,
     "metadata": {},
     "output_type": "execute_result"
    }
   ],
   "source": [
    "train_hs.head()"
   ]
  },
  {
   "cell_type": "code",
   "execution_count": 4,
   "metadata": {},
   "outputs": [
    {
     "data": {
      "text/html": [
       "<div>\n",
       "<style scoped>\n",
       "    .dataframe tbody tr th:only-of-type {\n",
       "        vertical-align: middle;\n",
       "    }\n",
       "\n",
       "    .dataframe tbody tr th {\n",
       "        vertical-align: top;\n",
       "    }\n",
       "\n",
       "    .dataframe thead th {\n",
       "        text-align: right;\n",
       "    }\n",
       "</style>\n",
       "<table border=\"1\" class=\"dataframe\">\n",
       "  <thead>\n",
       "    <tr style=\"text-align: right;\">\n",
       "      <th></th>\n",
       "      <th>crown_id</th>\n",
       "      <th>species</th>\n",
       "      <th>genus</th>\n",
       "      <th>species_id</th>\n",
       "      <th>genus_id</th>\n",
       "    </tr>\n",
       "  </thead>\n",
       "  <tbody>\n",
       "    <tr>\n",
       "      <th>0</th>\n",
       "      <td>302</td>\n",
       "      <td>Quercus laevis</td>\n",
       "      <td>Quercus</td>\n",
       "      <td>QULA</td>\n",
       "      <td>QU</td>\n",
       "    </tr>\n",
       "    <tr>\n",
       "      <th>1</th>\n",
       "      <td>404</td>\n",
       "      <td>Pinus palustris</td>\n",
       "      <td>Pinus</td>\n",
       "      <td>PIPA</td>\n",
       "      <td>PI</td>\n",
       "    </tr>\n",
       "    <tr>\n",
       "      <th>2</th>\n",
       "      <td>482</td>\n",
       "      <td>Acer rubrum</td>\n",
       "      <td>Acer</td>\n",
       "      <td>ACRU</td>\n",
       "      <td>AC</td>\n",
       "    </tr>\n",
       "    <tr>\n",
       "      <th>3</th>\n",
       "      <td>199</td>\n",
       "      <td>Pinus palustris</td>\n",
       "      <td>Pinus</td>\n",
       "      <td>PIPA</td>\n",
       "      <td>PI</td>\n",
       "    </tr>\n",
       "    <tr>\n",
       "      <th>4</th>\n",
       "      <td>373</td>\n",
       "      <td>Liquidambar styraciflua</td>\n",
       "      <td>Liquidambar</td>\n",
       "      <td>LIST</td>\n",
       "      <td>LI</td>\n",
       "    </tr>\n",
       "  </tbody>\n",
       "</table>\n",
       "</div>"
      ],
      "text/plain": [
       "   crown_id                  species        genus species_id genus_id\n",
       "0       302           Quercus laevis      Quercus       QULA       QU\n",
       "1       404          Pinus palustris        Pinus       PIPA       PI\n",
       "2       482              Acer rubrum         Acer       ACRU       AC\n",
       "3       199          Pinus palustris        Pinus       PIPA       PI\n",
       "4       373  Liquidambar styraciflua  Liquidambar       LIST       LI"
      ]
     },
     "execution_count": 4,
     "metadata": {},
     "output_type": "execute_result"
    }
   ],
   "source": [
    "train_class.head()"
   ]
  },
  {
   "cell_type": "code",
   "execution_count": 5,
   "metadata": {},
   "outputs": [],
   "source": [
    "train_joined = train_hs.merge(train_class, on=\"crown_id\", how='inner')"
   ]
  },
  {
   "cell_type": "code",
   "execution_count": 6,
   "metadata": {},
   "outputs": [
    {
     "data": {
      "text/html": [
       "<div>\n",
       "<style scoped>\n",
       "    .dataframe tbody tr th:only-of-type {\n",
       "        vertical-align: middle;\n",
       "    }\n",
       "\n",
       "    .dataframe tbody tr th {\n",
       "        vertical-align: top;\n",
       "    }\n",
       "\n",
       "    .dataframe thead th {\n",
       "        text-align: right;\n",
       "    }\n",
       "</style>\n",
       "<table border=\"1\" class=\"dataframe\">\n",
       "  <thead>\n",
       "    <tr style=\"text-align: right;\">\n",
       "      <th></th>\n",
       "      <th>crown_id</th>\n",
       "      <th>chm</th>\n",
       "      <th>band_1</th>\n",
       "      <th>band_2</th>\n",
       "      <th>band_3</th>\n",
       "      <th>band_4</th>\n",
       "      <th>band_5</th>\n",
       "      <th>band_6</th>\n",
       "      <th>band_7</th>\n",
       "      <th>band_8</th>\n",
       "      <th>...</th>\n",
       "      <th>band_421</th>\n",
       "      <th>band_422</th>\n",
       "      <th>band_423</th>\n",
       "      <th>band_424</th>\n",
       "      <th>band_425</th>\n",
       "      <th>band_426</th>\n",
       "      <th>species</th>\n",
       "      <th>genus</th>\n",
       "      <th>species_id</th>\n",
       "      <th>genus_id</th>\n",
       "    </tr>\n",
       "  </thead>\n",
       "  <tbody>\n",
       "    <tr>\n",
       "      <th>0</th>\n",
       "      <td>302</td>\n",
       "      <td>6.78</td>\n",
       "      <td>0.0118</td>\n",
       "      <td>0.0182</td>\n",
       "      <td>0.0259</td>\n",
       "      <td>0.0163</td>\n",
       "      <td>0.0121</td>\n",
       "      <td>0.0111</td>\n",
       "      <td>0.0138</td>\n",
       "      <td>0.0147</td>\n",
       "      <td>...</td>\n",
       "      <td>0.1293</td>\n",
       "      <td>0.2911</td>\n",
       "      <td>0.1835</td>\n",
       "      <td>0.1658</td>\n",
       "      <td>0.5142</td>\n",
       "      <td>0.8945</td>\n",
       "      <td>Quercus laevis</td>\n",
       "      <td>Quercus</td>\n",
       "      <td>QULA</td>\n",
       "      <td>QU</td>\n",
       "    </tr>\n",
       "    <tr>\n",
       "      <th>1</th>\n",
       "      <td>302</td>\n",
       "      <td>7.99</td>\n",
       "      <td>0.0183</td>\n",
       "      <td>0.0202</td>\n",
       "      <td>0.0262</td>\n",
       "      <td>0.0247</td>\n",
       "      <td>0.0179</td>\n",
       "      <td>0.0190</td>\n",
       "      <td>0.0216</td>\n",
       "      <td>0.0216</td>\n",
       "      <td>...</td>\n",
       "      <td>0.1770</td>\n",
       "      <td>0.3486</td>\n",
       "      <td>0.1680</td>\n",
       "      <td>0.1617</td>\n",
       "      <td>0.3668</td>\n",
       "      <td>0.9973</td>\n",
       "      <td>Quercus laevis</td>\n",
       "      <td>Quercus</td>\n",
       "      <td>QULA</td>\n",
       "      <td>QU</td>\n",
       "    </tr>\n",
       "    <tr>\n",
       "      <th>2</th>\n",
       "      <td>302</td>\n",
       "      <td>6.39</td>\n",
       "      <td>0.0195</td>\n",
       "      <td>0.0176</td>\n",
       "      <td>0.0261</td>\n",
       "      <td>0.0224</td>\n",
       "      <td>0.0153</td>\n",
       "      <td>0.0155</td>\n",
       "      <td>0.0167</td>\n",
       "      <td>0.0193</td>\n",
       "      <td>...</td>\n",
       "      <td>0.1669</td>\n",
       "      <td>0.2069</td>\n",
       "      <td>0.2328</td>\n",
       "      <td>0.1765</td>\n",
       "      <td>0.4653</td>\n",
       "      <td>1.3310</td>\n",
       "      <td>Quercus laevis</td>\n",
       "      <td>Quercus</td>\n",
       "      <td>QULA</td>\n",
       "      <td>QU</td>\n",
       "    </tr>\n",
       "    <tr>\n",
       "      <th>3</th>\n",
       "      <td>302</td>\n",
       "      <td>8.76</td>\n",
       "      <td>0.0147</td>\n",
       "      <td>0.0236</td>\n",
       "      <td>0.0271</td>\n",
       "      <td>0.0198</td>\n",
       "      <td>0.0159</td>\n",
       "      <td>0.0180</td>\n",
       "      <td>0.0167</td>\n",
       "      <td>0.0177</td>\n",
       "      <td>...</td>\n",
       "      <td>0.1582</td>\n",
       "      <td>0.3171</td>\n",
       "      <td>0.2919</td>\n",
       "      <td>0.2121</td>\n",
       "      <td>0.5380</td>\n",
       "      <td>1.2786</td>\n",
       "      <td>Quercus laevis</td>\n",
       "      <td>Quercus</td>\n",
       "      <td>QULA</td>\n",
       "      <td>QU</td>\n",
       "    </tr>\n",
       "    <tr>\n",
       "      <th>4</th>\n",
       "      <td>302</td>\n",
       "      <td>7.52</td>\n",
       "      <td>0.0178</td>\n",
       "      <td>0.0191</td>\n",
       "      <td>0.0251</td>\n",
       "      <td>0.0189</td>\n",
       "      <td>0.0137</td>\n",
       "      <td>0.0141</td>\n",
       "      <td>0.0156</td>\n",
       "      <td>0.0178</td>\n",
       "      <td>...</td>\n",
       "      <td>0.1613</td>\n",
       "      <td>0.3703</td>\n",
       "      <td>0.1875</td>\n",
       "      <td>0.2034</td>\n",
       "      <td>0.4958</td>\n",
       "      <td>1.0195</td>\n",
       "      <td>Quercus laevis</td>\n",
       "      <td>Quercus</td>\n",
       "      <td>QULA</td>\n",
       "      <td>QU</td>\n",
       "    </tr>\n",
       "    <tr>\n",
       "      <th>...</th>\n",
       "      <td>...</td>\n",
       "      <td>...</td>\n",
       "      <td>...</td>\n",
       "      <td>...</td>\n",
       "      <td>...</td>\n",
       "      <td>...</td>\n",
       "      <td>...</td>\n",
       "      <td>...</td>\n",
       "      <td>...</td>\n",
       "      <td>...</td>\n",
       "      <td>...</td>\n",
       "      <td>...</td>\n",
       "      <td>...</td>\n",
       "      <td>...</td>\n",
       "      <td>...</td>\n",
       "      <td>...</td>\n",
       "      <td>...</td>\n",
       "      <td>...</td>\n",
       "      <td>...</td>\n",
       "      <td>...</td>\n",
       "      <td>...</td>\n",
       "    </tr>\n",
       "    <tr>\n",
       "      <th>6826</th>\n",
       "      <td>184</td>\n",
       "      <td>6.71</td>\n",
       "      <td>0.0209</td>\n",
       "      <td>0.0267</td>\n",
       "      <td>0.0332</td>\n",
       "      <td>0.0279</td>\n",
       "      <td>0.0214</td>\n",
       "      <td>0.0239</td>\n",
       "      <td>0.0244</td>\n",
       "      <td>0.0255</td>\n",
       "      <td>...</td>\n",
       "      <td>0.1344</td>\n",
       "      <td>0.2152</td>\n",
       "      <td>0.1789</td>\n",
       "      <td>0.1627</td>\n",
       "      <td>0.3551</td>\n",
       "      <td>0.8019</td>\n",
       "      <td>Quercus laevis</td>\n",
       "      <td>Quercus</td>\n",
       "      <td>QULA</td>\n",
       "      <td>QU</td>\n",
       "    </tr>\n",
       "    <tr>\n",
       "      <th>6827</th>\n",
       "      <td>184</td>\n",
       "      <td>6.68</td>\n",
       "      <td>0.0216</td>\n",
       "      <td>0.0271</td>\n",
       "      <td>0.0364</td>\n",
       "      <td>0.0316</td>\n",
       "      <td>0.0251</td>\n",
       "      <td>0.0258</td>\n",
       "      <td>0.0258</td>\n",
       "      <td>0.0279</td>\n",
       "      <td>...</td>\n",
       "      <td>0.1199</td>\n",
       "      <td>0.2553</td>\n",
       "      <td>0.1856</td>\n",
       "      <td>0.1901</td>\n",
       "      <td>0.3274</td>\n",
       "      <td>0.7209</td>\n",
       "      <td>Quercus laevis</td>\n",
       "      <td>Quercus</td>\n",
       "      <td>QULA</td>\n",
       "      <td>QU</td>\n",
       "    </tr>\n",
       "    <tr>\n",
       "      <th>6828</th>\n",
       "      <td>184</td>\n",
       "      <td>6.69</td>\n",
       "      <td>0.0178</td>\n",
       "      <td>0.0229</td>\n",
       "      <td>0.0241</td>\n",
       "      <td>0.0282</td>\n",
       "      <td>0.0189</td>\n",
       "      <td>0.0198</td>\n",
       "      <td>0.0211</td>\n",
       "      <td>0.0229</td>\n",
       "      <td>...</td>\n",
       "      <td>0.1362</td>\n",
       "      <td>0.2027</td>\n",
       "      <td>0.1728</td>\n",
       "      <td>0.1576</td>\n",
       "      <td>0.2967</td>\n",
       "      <td>0.8139</td>\n",
       "      <td>Quercus laevis</td>\n",
       "      <td>Quercus</td>\n",
       "      <td>QULA</td>\n",
       "      <td>QU</td>\n",
       "    </tr>\n",
       "    <tr>\n",
       "      <th>6829</th>\n",
       "      <td>184</td>\n",
       "      <td>6.37</td>\n",
       "      <td>0.0175</td>\n",
       "      <td>0.0226</td>\n",
       "      <td>0.0238</td>\n",
       "      <td>0.0278</td>\n",
       "      <td>0.0186</td>\n",
       "      <td>0.0195</td>\n",
       "      <td>0.0209</td>\n",
       "      <td>0.0225</td>\n",
       "      <td>...</td>\n",
       "      <td>0.1339</td>\n",
       "      <td>0.1993</td>\n",
       "      <td>0.1699</td>\n",
       "      <td>0.1550</td>\n",
       "      <td>0.2918</td>\n",
       "      <td>0.8005</td>\n",
       "      <td>Quercus laevis</td>\n",
       "      <td>Quercus</td>\n",
       "      <td>QULA</td>\n",
       "      <td>QU</td>\n",
       "    </tr>\n",
       "    <tr>\n",
       "      <th>6830</th>\n",
       "      <td>184</td>\n",
       "      <td>6.66</td>\n",
       "      <td>0.0218</td>\n",
       "      <td>0.0273</td>\n",
       "      <td>0.0366</td>\n",
       "      <td>0.0318</td>\n",
       "      <td>0.0253</td>\n",
       "      <td>0.0259</td>\n",
       "      <td>0.0260</td>\n",
       "      <td>0.0281</td>\n",
       "      <td>...</td>\n",
       "      <td>0.1210</td>\n",
       "      <td>0.2577</td>\n",
       "      <td>0.1874</td>\n",
       "      <td>0.1918</td>\n",
       "      <td>0.3304</td>\n",
       "      <td>0.7276</td>\n",
       "      <td>Quercus laevis</td>\n",
       "      <td>Quercus</td>\n",
       "      <td>QULA</td>\n",
       "      <td>QU</td>\n",
       "    </tr>\n",
       "  </tbody>\n",
       "</table>\n",
       "<p>6831 rows × 432 columns</p>\n",
       "</div>"
      ],
      "text/plain": [
       "      crown_id   chm  band_1  band_2  band_3  band_4  band_5  band_6  band_7  \\\n",
       "0          302  6.78  0.0118  0.0182  0.0259  0.0163  0.0121  0.0111  0.0138   \n",
       "1          302  7.99  0.0183  0.0202  0.0262  0.0247  0.0179  0.0190  0.0216   \n",
       "2          302  6.39  0.0195  0.0176  0.0261  0.0224  0.0153  0.0155  0.0167   \n",
       "3          302  8.76  0.0147  0.0236  0.0271  0.0198  0.0159  0.0180  0.0167   \n",
       "4          302  7.52  0.0178  0.0191  0.0251  0.0189  0.0137  0.0141  0.0156   \n",
       "...        ...   ...     ...     ...     ...     ...     ...     ...     ...   \n",
       "6826       184  6.71  0.0209  0.0267  0.0332  0.0279  0.0214  0.0239  0.0244   \n",
       "6827       184  6.68  0.0216  0.0271  0.0364  0.0316  0.0251  0.0258  0.0258   \n",
       "6828       184  6.69  0.0178  0.0229  0.0241  0.0282  0.0189  0.0198  0.0211   \n",
       "6829       184  6.37  0.0175  0.0226  0.0238  0.0278  0.0186  0.0195  0.0209   \n",
       "6830       184  6.66  0.0218  0.0273  0.0366  0.0318  0.0253  0.0259  0.0260   \n",
       "\n",
       "      band_8  ...  band_421  band_422  band_423  band_424  band_425  band_426  \\\n",
       "0     0.0147  ...    0.1293    0.2911    0.1835    0.1658    0.5142    0.8945   \n",
       "1     0.0216  ...    0.1770    0.3486    0.1680    0.1617    0.3668    0.9973   \n",
       "2     0.0193  ...    0.1669    0.2069    0.2328    0.1765    0.4653    1.3310   \n",
       "3     0.0177  ...    0.1582    0.3171    0.2919    0.2121    0.5380    1.2786   \n",
       "4     0.0178  ...    0.1613    0.3703    0.1875    0.2034    0.4958    1.0195   \n",
       "...      ...  ...       ...       ...       ...       ...       ...       ...   \n",
       "6826  0.0255  ...    0.1344    0.2152    0.1789    0.1627    0.3551    0.8019   \n",
       "6827  0.0279  ...    0.1199    0.2553    0.1856    0.1901    0.3274    0.7209   \n",
       "6828  0.0229  ...    0.1362    0.2027    0.1728    0.1576    0.2967    0.8139   \n",
       "6829  0.0225  ...    0.1339    0.1993    0.1699    0.1550    0.2918    0.8005   \n",
       "6830  0.0281  ...    0.1210    0.2577    0.1874    0.1918    0.3304    0.7276   \n",
       "\n",
       "             species    genus  species_id  genus_id  \n",
       "0     Quercus laevis  Quercus        QULA        QU  \n",
       "1     Quercus laevis  Quercus        QULA        QU  \n",
       "2     Quercus laevis  Quercus        QULA        QU  \n",
       "3     Quercus laevis  Quercus        QULA        QU  \n",
       "4     Quercus laevis  Quercus        QULA        QU  \n",
       "...              ...      ...         ...       ...  \n",
       "6826  Quercus laevis  Quercus        QULA        QU  \n",
       "6827  Quercus laevis  Quercus        QULA        QU  \n",
       "6828  Quercus laevis  Quercus        QULA        QU  \n",
       "6829  Quercus laevis  Quercus        QULA        QU  \n",
       "6830  Quercus laevis  Quercus        QULA        QU  \n",
       "\n",
       "[6831 rows x 432 columns]"
      ]
     },
     "execution_count": 6,
     "metadata": {},
     "output_type": "execute_result"
    }
   ],
   "source": [
    "train_joined"
   ]
  },
  {
   "cell_type": "code",
   "execution_count": 7,
   "metadata": {},
   "outputs": [],
   "source": [
    "hyperbands = pd.read_csv(\"../ECODSEdataset/hyper_bands.csv\")"
   ]
  },
  {
   "cell_type": "markdown",
   "metadata": {},
   "source": [
    "## 1. Method 1 - SAM"
   ]
  },
  {
   "cell_type": "code",
   "execution_count": 8,
   "metadata": {},
   "outputs": [],
   "source": [
    "groups = train_joined.groupby('species_id')"
   ]
  },
  {
   "cell_type": "code",
   "execution_count": 9,
   "metadata": {},
   "outputs": [],
   "source": [
    "library_mean = groups.aggregate(\"mean\").T.iloc[2:, :]"
   ]
  },
  {
   "cell_type": "code",
   "execution_count": 10,
   "metadata": {},
   "outputs": [],
   "source": [
    "library_mean.loc[:, 'wavelength'] = hyperbands.Band_nanometers.values"
   ]
  },
  {
   "cell_type": "code",
   "execution_count": 11,
   "metadata": {},
   "outputs": [],
   "source": [
    "library_mean = library_mean.set_index('wavelength')"
   ]
  },
  {
   "cell_type": "code",
   "execution_count": 12,
   "metadata": {},
   "outputs": [
    {
     "data": {
      "text/html": [
       "<div>\n",
       "<style scoped>\n",
       "    .dataframe tbody tr th:only-of-type {\n",
       "        vertical-align: middle;\n",
       "    }\n",
       "\n",
       "    .dataframe tbody tr th {\n",
       "        vertical-align: top;\n",
       "    }\n",
       "\n",
       "    .dataframe thead th {\n",
       "        text-align: right;\n",
       "    }\n",
       "</style>\n",
       "<table border=\"1\" class=\"dataframe\">\n",
       "  <thead>\n",
       "    <tr style=\"text-align: right;\">\n",
       "      <th>species_id</th>\n",
       "      <th>ACRU</th>\n",
       "      <th>LIST</th>\n",
       "      <th>OTHER</th>\n",
       "      <th>PIEL</th>\n",
       "      <th>PIPA</th>\n",
       "      <th>PITA</th>\n",
       "      <th>QUGE</th>\n",
       "      <th>QULA</th>\n",
       "      <th>QUNI</th>\n",
       "    </tr>\n",
       "    <tr>\n",
       "      <th>wavelength</th>\n",
       "      <th></th>\n",
       "      <th></th>\n",
       "      <th></th>\n",
       "      <th></th>\n",
       "      <th></th>\n",
       "      <th></th>\n",
       "      <th></th>\n",
       "      <th></th>\n",
       "      <th></th>\n",
       "    </tr>\n",
       "  </thead>\n",
       "  <tbody>\n",
       "    <tr>\n",
       "      <th>0.3827</th>\n",
       "      <td>0.012027</td>\n",
       "      <td>0.010552</td>\n",
       "      <td>0.010215</td>\n",
       "      <td>0.012036</td>\n",
       "      <td>0.015676</td>\n",
       "      <td>0.010277</td>\n",
       "      <td>0.013573</td>\n",
       "      <td>0.016333</td>\n",
       "      <td>0.011357</td>\n",
       "    </tr>\n",
       "    <tr>\n",
       "      <th>0.3877</th>\n",
       "      <td>0.013827</td>\n",
       "      <td>0.011787</td>\n",
       "      <td>0.013303</td>\n",
       "      <td>0.014741</td>\n",
       "      <td>0.018395</td>\n",
       "      <td>0.012547</td>\n",
       "      <td>0.015829</td>\n",
       "      <td>0.018776</td>\n",
       "      <td>0.013508</td>\n",
       "    </tr>\n",
       "    <tr>\n",
       "      <th>0.3927</th>\n",
       "      <td>0.018010</td>\n",
       "      <td>0.015445</td>\n",
       "      <td>0.018080</td>\n",
       "      <td>0.019459</td>\n",
       "      <td>0.023505</td>\n",
       "      <td>0.017190</td>\n",
       "      <td>0.021470</td>\n",
       "      <td>0.023903</td>\n",
       "      <td>0.017929</td>\n",
       "    </tr>\n",
       "    <tr>\n",
       "      <th>0.3977</th>\n",
       "      <td>0.014591</td>\n",
       "      <td>0.013302</td>\n",
       "      <td>0.016056</td>\n",
       "      <td>0.016557</td>\n",
       "      <td>0.020838</td>\n",
       "      <td>0.014686</td>\n",
       "      <td>0.018839</td>\n",
       "      <td>0.021005</td>\n",
       "      <td>0.015374</td>\n",
       "    </tr>\n",
       "    <tr>\n",
       "      <th>0.4027</th>\n",
       "      <td>0.007845</td>\n",
       "      <td>0.006552</td>\n",
       "      <td>0.009480</td>\n",
       "      <td>0.009590</td>\n",
       "      <td>0.013806</td>\n",
       "      <td>0.008075</td>\n",
       "      <td>0.011951</td>\n",
       "      <td>0.014027</td>\n",
       "      <td>0.008849</td>\n",
       "    </tr>\n",
       "    <tr>\n",
       "      <th>...</th>\n",
       "      <td>...</td>\n",
       "      <td>...</td>\n",
       "      <td>...</td>\n",
       "      <td>...</td>\n",
       "      <td>...</td>\n",
       "      <td>...</td>\n",
       "      <td>...</td>\n",
       "      <td>...</td>\n",
       "      <td>...</td>\n",
       "    </tr>\n",
       "    <tr>\n",
       "      <th>2.4917</th>\n",
       "      <td>0.174153</td>\n",
       "      <td>0.148671</td>\n",
       "      <td>0.183279</td>\n",
       "      <td>0.158318</td>\n",
       "      <td>0.210805</td>\n",
       "      <td>0.173723</td>\n",
       "      <td>0.225147</td>\n",
       "      <td>0.253632</td>\n",
       "      <td>0.155578</td>\n",
       "    </tr>\n",
       "    <tr>\n",
       "      <th>2.4967</th>\n",
       "      <td>0.124677</td>\n",
       "      <td>0.102848</td>\n",
       "      <td>0.130921</td>\n",
       "      <td>0.116321</td>\n",
       "      <td>0.154584</td>\n",
       "      <td>0.125085</td>\n",
       "      <td>0.159916</td>\n",
       "      <td>0.179120</td>\n",
       "      <td>0.114588</td>\n",
       "    </tr>\n",
       "    <tr>\n",
       "      <th>2.5017</th>\n",
       "      <td>0.122355</td>\n",
       "      <td>0.103204</td>\n",
       "      <td>0.127360</td>\n",
       "      <td>0.116446</td>\n",
       "      <td>0.148732</td>\n",
       "      <td>0.120601</td>\n",
       "      <td>0.151902</td>\n",
       "      <td>0.171150</td>\n",
       "      <td>0.113900</td>\n",
       "    </tr>\n",
       "    <tr>\n",
       "      <th>2.5067</th>\n",
       "      <td>0.262001</td>\n",
       "      <td>0.226137</td>\n",
       "      <td>0.311555</td>\n",
       "      <td>0.255239</td>\n",
       "      <td>0.326732</td>\n",
       "      <td>0.258997</td>\n",
       "      <td>0.346781</td>\n",
       "      <td>0.379081</td>\n",
       "      <td>0.266757</td>\n",
       "    </tr>\n",
       "    <tr>\n",
       "      <th>2.5117</th>\n",
       "      <td>0.662426</td>\n",
       "      <td>0.598782</td>\n",
       "      <td>0.852141</td>\n",
       "      <td>0.649673</td>\n",
       "      <td>0.819837</td>\n",
       "      <td>0.639533</td>\n",
       "      <td>0.953880</td>\n",
       "      <td>0.979582</td>\n",
       "      <td>0.707585</td>\n",
       "    </tr>\n",
       "  </tbody>\n",
       "</table>\n",
       "<p>426 rows × 9 columns</p>\n",
       "</div>"
      ],
      "text/plain": [
       "species_id      ACRU      LIST     OTHER      PIEL      PIPA      PITA  \\\n",
       "wavelength                                                               \n",
       "0.3827      0.012027  0.010552  0.010215  0.012036  0.015676  0.010277   \n",
       "0.3877      0.013827  0.011787  0.013303  0.014741  0.018395  0.012547   \n",
       "0.3927      0.018010  0.015445  0.018080  0.019459  0.023505  0.017190   \n",
       "0.3977      0.014591  0.013302  0.016056  0.016557  0.020838  0.014686   \n",
       "0.4027      0.007845  0.006552  0.009480  0.009590  0.013806  0.008075   \n",
       "...              ...       ...       ...       ...       ...       ...   \n",
       "2.4917      0.174153  0.148671  0.183279  0.158318  0.210805  0.173723   \n",
       "2.4967      0.124677  0.102848  0.130921  0.116321  0.154584  0.125085   \n",
       "2.5017      0.122355  0.103204  0.127360  0.116446  0.148732  0.120601   \n",
       "2.5067      0.262001  0.226137  0.311555  0.255239  0.326732  0.258997   \n",
       "2.5117      0.662426  0.598782  0.852141  0.649673  0.819837  0.639533   \n",
       "\n",
       "species_id      QUGE      QULA      QUNI  \n",
       "wavelength                                \n",
       "0.3827      0.013573  0.016333  0.011357  \n",
       "0.3877      0.015829  0.018776  0.013508  \n",
       "0.3927      0.021470  0.023903  0.017929  \n",
       "0.3977      0.018839  0.021005  0.015374  \n",
       "0.4027      0.011951  0.014027  0.008849  \n",
       "...              ...       ...       ...  \n",
       "2.4917      0.225147  0.253632  0.155578  \n",
       "2.4967      0.159916  0.179120  0.114588  \n",
       "2.5017      0.151902  0.171150  0.113900  \n",
       "2.5067      0.346781  0.379081  0.266757  \n",
       "2.5117      0.953880  0.979582  0.707585  \n",
       "\n",
       "[426 rows x 9 columns]"
      ]
     },
     "execution_count": 12,
     "metadata": {},
     "output_type": "execute_result"
    }
   ],
   "source": [
    "library_mean"
   ]
  },
  {
   "cell_type": "code",
   "execution_count": 13,
   "metadata": {},
   "outputs": [],
   "source": [
    "library_mean.to_csv(\"library.txt\", header=False, sep=\" \")"
   ]
  },
  {
   "cell_type": "code",
   "execution_count": 14,
   "metadata": {},
   "outputs": [],
   "source": [
    "hdr_str = \"ENVI ASCII Plot File\\nColumn 1: wavelength\\n\"\n",
    "for i in range(library_mean.shape[1]):\n",
    "    hdr_str += \"Column {0}: {1}\\n\".format(i+2, library_mean.columns[i])"
   ]
  },
  {
   "cell_type": "code",
   "execution_count": 15,
   "metadata": {},
   "outputs": [
    {
     "name": "stdout",
     "output_type": "stream",
     "text": [
      "ENVI ASCII Plot File\n",
      "Column 1: wavelength\n",
      "Column 2: ACRU\n",
      "Column 3: LIST\n",
      "Column 4: OTHER\n",
      "Column 5: PIEL\n",
      "Column 6: PIPA\n",
      "Column 7: PITA\n",
      "Column 8: QUGE\n",
      "Column 9: QULA\n",
      "Column 10: QUNI\n",
      "\n"
     ]
    }
   ],
   "source": [
    "print(hdr_str)"
   ]
  },
  {
   "cell_type": "code",
   "execution_count": 16,
   "metadata": {},
   "outputs": [],
   "source": [
    "with open('library.txt', 'r') as original: data = original.read()\n",
    "with open('library.txt', 'w') as modified: modified.write(hdr_str + data)"
   ]
  },
  {
   "cell_type": "markdown",
   "metadata": {},
   "source": [
    "### Group by crown_id"
   ]
  },
  {
   "cell_type": "code",
   "execution_count": 17,
   "metadata": {},
   "outputs": [],
   "source": [
    "crown_groups = train_joined.groupby('crown_id')"
   ]
  },
  {
   "cell_type": "code",
   "execution_count": 18,
   "metadata": {},
   "outputs": [],
   "source": [
    "crown_species = train_joined.loc[:, ['crown_id', 'species', 'species_id']]"
   ]
  },
  {
   "cell_type": "code",
   "execution_count": 19,
   "metadata": {},
   "outputs": [],
   "source": [
    "species_LUT = crown_species.loc[~crown_species.duplicated(), :]"
   ]
  },
  {
   "cell_type": "code",
   "execution_count": 22,
   "metadata": {},
   "outputs": [
    {
     "data": {
      "text/html": [
       "<div>\n",
       "<style scoped>\n",
       "    .dataframe tbody tr th:only-of-type {\n",
       "        vertical-align: middle;\n",
       "    }\n",
       "\n",
       "    .dataframe tbody tr th {\n",
       "        vertical-align: top;\n",
       "    }\n",
       "\n",
       "    .dataframe thead th {\n",
       "        text-align: right;\n",
       "    }\n",
       "</style>\n",
       "<table border=\"1\" class=\"dataframe\">\n",
       "  <thead>\n",
       "    <tr style=\"text-align: right;\">\n",
       "      <th></th>\n",
       "      <th>crown_id</th>\n",
       "      <th>species</th>\n",
       "      <th>species_id</th>\n",
       "    </tr>\n",
       "  </thead>\n",
       "  <tbody>\n",
       "    <tr>\n",
       "      <th>5324</th>\n",
       "      <td>112</td>\n",
       "      <td>Pinus palustris</td>\n",
       "      <td>PIPA</td>\n",
       "    </tr>\n",
       "  </tbody>\n",
       "</table>\n",
       "</div>"
      ],
      "text/plain": [
       "      crown_id          species species_id\n",
       "5324       112  Pinus palustris       PIPA"
      ]
     },
     "execution_count": 22,
     "metadata": {},
     "output_type": "execute_result"
    }
   ],
   "source": [
    "species_LUT.loc[species_LUT.crown_id == 112, :]"
   ]
  },
  {
   "cell_type": "markdown",
   "metadata": {},
   "source": [
    "## 2. Method 2 - Supervised Classification"
   ]
  },
  {
   "cell_type": "code",
   "execution_count": 23,
   "metadata": {},
   "outputs": [],
   "source": [
    "with open('library_mnf.txt') as f:\n",
    "    lines = f.readlines()\n",
    "    data = list(map(lambda x: x.strip().split('  '), lines[11:]))"
   ]
  },
  {
   "cell_type": "code",
   "execution_count": 24,
   "metadata": {},
   "outputs": [],
   "source": [
    "for line in data:\n",
    "    for i in line:\n",
    "        if i == '':\n",
    "            line.remove(i)"
   ]
  },
  {
   "cell_type": "code",
   "execution_count": 25,
   "metadata": {},
   "outputs": [],
   "source": [
    "library_mnf = np.array(data, dtype=np.float)[:25, 1:]"
   ]
  },
  {
   "cell_type": "code",
   "execution_count": 26,
   "metadata": {},
   "outputs": [],
   "source": [
    "train_X = train_joined.loc[:, 'band_1': 'band_426'].T\n",
    "train_X.loc[:, 'wavelength'] = hyperbands.Band_nanometers.values"
   ]
  },
  {
   "cell_type": "code",
   "execution_count": 27,
   "metadata": {},
   "outputs": [],
   "source": [
    "train_X = train_X.set_index('wavelength')"
   ]
  },
  {
   "cell_type": "code",
   "execution_count": 28,
   "metadata": {},
   "outputs": [],
   "source": [
    "train_X.to_csv('train_X.csv', header=False)"
   ]
  },
  {
   "cell_type": "code",
   "execution_count": 29,
   "metadata": {},
   "outputs": [
    {
     "data": {
      "text/plain": [
       "(426, 6831)"
      ]
     },
     "execution_count": 29,
     "metadata": {},
     "output_type": "execute_result"
    }
   ],
   "source": [
    "train_X.shape"
   ]
  },
  {
   "cell_type": "markdown",
   "metadata": {},
   "source": [
    "### Read in the transformed data"
   ]
  },
  {
   "cell_type": "code",
   "execution_count": 30,
   "metadata": {},
   "outputs": [],
   "source": [
    "with open('train_mnf.txt') as f:\n",
    "    lines = f.readlines()\n",
    "    data = list(map(lambda x: x.strip().split('  '), lines[6833:6833+25]))\n",
    "    for line in data:\n",
    "        for i in line:\n",
    "            if i == \"\":\n",
    "                line.remove(i)"
   ]
  },
  {
   "cell_type": "code",
   "execution_count": 31,
   "metadata": {},
   "outputs": [],
   "source": [
    "train_mnf = np.array(data, dtype=np.float)[:, 1:]"
   ]
  },
  {
   "cell_type": "code",
   "execution_count": 32,
   "metadata": {},
   "outputs": [],
   "source": [
    "train_mnf = train_mnf.T"
   ]
  },
  {
   "cell_type": "code",
   "execution_count": 33,
   "metadata": {},
   "outputs": [],
   "source": [
    "train_y = train_joined.species_id.values.reshape(-1, 1)"
   ]
  },
  {
   "cell_type": "code",
   "execution_count": 34,
   "metadata": {},
   "outputs": [],
   "source": [
    "# add chm feature\n",
    "train_features = np.hstack([train_mnf, train_joined.chm.values.reshape(-1, 1)])"
   ]
  },
  {
   "cell_type": "code",
   "execution_count": 35,
   "metadata": {},
   "outputs": [
    {
     "data": {
      "text/plain": [
       "array([[ 8.500096  ,  1.524814  ,  6.527853  , ...,  1.904477  ,\n",
       "        -0.746543  ,  6.77999973],\n",
       "       [17.31802   ,  1.737531  , 11.551563  , ...,  5.115785  ,\n",
       "        -0.608292  ,  7.98999977],\n",
       "       [15.998114  ,  0.485562  ,  8.560614  , ...,  2.344443  ,\n",
       "        -0.858155  ,  6.38999987],\n",
       "       ...,\n",
       "       [-9.34249   , -0.393407  ,  5.682322  , ..., -2.376741  ,\n",
       "         2.456323  ,  6.69000006],\n",
       "       [-8.347999  ,  0.555257  ,  5.181084  , ..., -2.424271  ,\n",
       "         2.281033  ,  6.36999989],\n",
       "       [-8.856214  ,  1.788374  ,  4.9299    , ..., -3.960302  ,\n",
       "         4.974741  ,  6.65999985]])"
      ]
     },
     "execution_count": 35,
     "metadata": {},
     "output_type": "execute_result"
    }
   ],
   "source": [
    "train_features"
   ]
  },
  {
   "cell_type": "code",
   "execution_count": 36,
   "metadata": {},
   "outputs": [],
   "source": [
    "from sklearn.ensemble import RandomForestClassifier\n",
    "from sklearn.preprocessing import LabelEncoder"
   ]
  },
  {
   "cell_type": "code",
   "execution_count": 38,
   "metadata": {},
   "outputs": [
    {
     "data": {
      "text/plain": [
       "array(['ACRU', 'LIST', 'OTHER', 'PIEL', 'PIPA', 'PITA', 'QUGE', 'QULA',\n",
       "       'QUNI'], dtype=object)"
      ]
     },
     "execution_count": 38,
     "metadata": {},
     "output_type": "execute_result"
    }
   ],
   "source": [
    "le = LabelEncoder()\n",
    "train_y = le.fit_transform(train_joined.species_id.values)\n",
    "le.classes_"
   ]
  },
  {
   "cell_type": "code",
   "execution_count": 39,
   "metadata": {},
   "outputs": [],
   "source": [
    "clf = RandomForestClassifier(n_estimators=20)"
   ]
  },
  {
   "cell_type": "code",
   "execution_count": 40,
   "metadata": {},
   "outputs": [],
   "source": [
    "clf = clf.fit(train_features, train_y)"
   ]
  },
  {
   "cell_type": "markdown",
   "metadata": {},
   "source": [
    "#### Read in raster data"
   ]
  },
  {
   "cell_type": "code",
   "execution_count": 41,
   "metadata": {},
   "outputs": [],
   "source": [
    "with rasterio.open(\"mnf.tif\") as f, rasterio.open(\"../ECODSEdataset/RSdata/chm/OSBS_003_chm.tif\") as g:\n",
    "    data = f.read()\n",
    "    chm = g.read()"
   ]
  },
  {
   "cell_type": "code",
   "execution_count": 42,
   "metadata": {},
   "outputs": [],
   "source": [
    "data_t = np.moveaxis(data, 0, -1)\n",
    "chm_t = np.moveaxis(chm, 0, -1)"
   ]
  },
  {
   "cell_type": "code",
   "execution_count": 43,
   "metadata": {},
   "outputs": [],
   "source": [
    "raster_25 = np.hstack([data_t[:, :, :25].reshape(-1, 25), chm_t.reshape(-1, 1)])"
   ]
  },
  {
   "cell_type": "code",
   "execution_count": 44,
   "metadata": {},
   "outputs": [],
   "source": [
    "predicted = clf.predict(raster_25)"
   ]
  },
  {
   "cell_type": "code",
   "execution_count": 45,
   "metadata": {},
   "outputs": [],
   "source": [
    "output = predicted.reshape(80, 80)"
   ]
  },
  {
   "cell_type": "code",
   "execution_count": 57,
   "metadata": {},
   "outputs": [
    {
     "data": {
      "image/png": "[encoded data removed]",
      "text/plain": [
       "<Figure size 432x288 with 2 Axes>"
      ]
     },
     "metadata": {
      "needs_background": "light"
     },
     "output_type": "display_data"
    }
   ],
   "source": [
    "plt.imshow(output, cmap='RdYlGn')\n",
    "plt.colorbar()\n",
    "plt.savefig('illustrations/rf_output.jpg', dpi=150)"
   ]
  }
 ],
 "metadata": {
  "kernelspec": {
   "display_name": "Python 3",
   "language": "python",
   "name": "python3"
  },
  "language_info": {
   "codemirror_mode": {
    "name": "ipython",
    "version": 3
   },
   "file_extension": ".py",
   "mimetype": "text/x-python",
   "name": "python",
   "nbconvert_exporter": "python",
   "pygments_lexer": "ipython3",
   "version": "3.6.7"
  }
 },
 "nbformat": 4,
 "nbformat_minor": 4
}
